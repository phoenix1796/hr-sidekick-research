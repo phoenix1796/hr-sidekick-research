{
 "cells": [
  {
   "cell_type": "code",
   "execution_count": 1,
   "metadata": {},
   "outputs": [],
   "source": [
    "import pandas as pd\n",
    "from process import getDataset\n",
    "import numpy as np"
   ]
  },
  {
   "cell_type": "code",
   "execution_count": 10,
   "metadata": {},
   "outputs": [
    {
     "name": "stdout",
     "output_type": "stream",
     "text": [
      "       satisfaction_level  last_evaluation  number_project  \\\n",
      "0                    0.38             0.53               2   \n",
      "1                    0.80             0.86               5   \n",
      "2                    0.11             0.88               7   \n",
      "3                    0.72             0.87               5   \n",
      "4                    0.37             0.52               2   \n",
      "5                    0.41             0.50               2   \n",
      "6                    0.10             0.77               6   \n",
      "7                    0.92             0.85               5   \n",
      "8                    0.89             1.00               5   \n",
      "9                    0.42             0.53               2   \n",
      "10                   0.45             0.54               2   \n",
      "11                   0.11             0.81               6   \n",
      "12                   0.84             0.92               4   \n",
      "13                   0.41             0.55               2   \n",
      "14                   0.36             0.56               2   \n",
      "15                   0.38             0.54               2   \n",
      "16                   0.45             0.47               2   \n",
      "17                   0.78             0.99               4   \n",
      "18                   0.45             0.51               2   \n",
      "19                   0.76             0.89               5   \n",
      "20                   0.11             0.83               6   \n",
      "21                   0.38             0.55               2   \n",
      "22                   0.09             0.95               6   \n",
      "23                   0.46             0.57               2   \n",
      "24                   0.40             0.53               2   \n",
      "25                   0.89             0.92               5   \n",
      "26                   0.82             0.87               4   \n",
      "27                   0.40             0.49               2   \n",
      "28                   0.41             0.46               2   \n",
      "29                   0.38             0.50               2   \n",
      "...                   ...              ...             ...   \n",
      "14969                0.43             0.46               2   \n",
      "14970                0.78             0.93               4   \n",
      "14971                0.39             0.45               2   \n",
      "14972                0.11             0.97               6   \n",
      "14973                0.36             0.52               2   \n",
      "14974                0.36             0.54               2   \n",
      "14975                0.10             0.79               7   \n",
      "14976                0.40             0.47               2   \n",
      "14977                0.81             0.85               4   \n",
      "14978                0.40             0.47               2   \n",
      "14979                0.09             0.93               6   \n",
      "14980                0.76             0.89               5   \n",
      "14981                0.73             0.93               5   \n",
      "14982                0.38             0.49               2   \n",
      "14983                0.72             0.84               5   \n",
      "14984                0.40             0.56               2   \n",
      "14985                0.91             0.99               5   \n",
      "14986                0.85             0.85               4   \n",
      "14987                0.90             0.70               5   \n",
      "14988                0.46             0.55               2   \n",
      "14989                0.43             0.57               2   \n",
      "14990                0.89             0.88               5   \n",
      "14991                0.09             0.81               6   \n",
      "14992                0.40             0.48               2   \n",
      "14993                0.76             0.83               6   \n",
      "14994                0.40             0.57               2   \n",
      "14995                0.37             0.48               2   \n",
      "14996                0.37             0.53               2   \n",
      "14997                0.11             0.96               6   \n",
      "14998                0.37             0.52               2   \n",
      "\n",
      "       average_montly_hours  time_spend_company  Work_accident  left  \\\n",
      "0                       157                   3              0     1   \n",
      "1                       262                   6              0     1   \n",
      "2                       272                   4              0     1   \n",
      "3                       223                   5              0     1   \n",
      "4                       159                   3              0     1   \n",
      "5                       153                   3              0     1   \n",
      "6                       247                   4              0     1   \n",
      "7                       259                   5              0     1   \n",
      "8                       224                   5              0     1   \n",
      "9                       142                   3              0     1   \n",
      "10                      135                   3              0     1   \n",
      "11                      305                   4              0     1   \n",
      "12                      234                   5              0     1   \n",
      "13                      148                   3              0     1   \n",
      "14                      137                   3              0     1   \n",
      "15                      143                   3              0     1   \n",
      "16                      160                   3              0     1   \n",
      "17                      255                   6              0     1   \n",
      "18                      160                   3              1     1   \n",
      "19                      262                   5              0     1   \n",
      "20                      282                   4              0     1   \n",
      "21                      147                   3              0     1   \n",
      "22                      304                   4              0     1   \n",
      "23                      139                   3              0     1   \n",
      "24                      158                   3              0     1   \n",
      "25                      242                   5              0     1   \n",
      "26                      239                   5              0     1   \n",
      "27                      135                   3              0     1   \n",
      "28                      128                   3              0     1   \n",
      "29                      132                   3              0     1   \n",
      "...                     ...                 ...            ...   ...   \n",
      "14969                   157                   3              0     1   \n",
      "14970                   225                   5              0     1   \n",
      "14971                   140                   3              0     1   \n",
      "14972                   310                   4              0     1   \n",
      "14973                   143                   3              0     1   \n",
      "14974                   153                   3              0     1   \n",
      "14975                   310                   4              0     1   \n",
      "14976                   136                   3              0     1   \n",
      "14977                   251                   6              0     1   \n",
      "14978                   144                   3              0     1   \n",
      "14979                   296                   4              0     1   \n",
      "14980                   238                   5              0     1   \n",
      "14981                   162                   4              0     1   \n",
      "14982                   137                   3              0     1   \n",
      "14983                   257                   5              0     1   \n",
      "14984                   148                   3              0     1   \n",
      "14985                   254                   5              0     1   \n",
      "14986                   247                   6              0     1   \n",
      "14987                   206                   4              0     1   \n",
      "14988                   145                   3              0     1   \n",
      "14989                   159                   3              1     1   \n",
      "14990                   228                   5              1     1   \n",
      "14991                   257                   4              0     1   \n",
      "14992                   155                   3              0     1   \n",
      "14993                   293                   6              0     1   \n",
      "14994                   151                   3              0     1   \n",
      "14995                   160                   3              0     1   \n",
      "14996                   143                   3              0     1   \n",
      "14997                   280                   4              0     1   \n",
      "14998                   158                   3              0     1   \n",
      "\n",
      "       promotion_last_5years       sales  salary  \n",
      "0                          0       sales     low  \n",
      "1                          0       sales  medium  \n",
      "2                          0       sales  medium  \n",
      "3                          0       sales     low  \n",
      "4                          0       sales     low  \n",
      "5                          0       sales     low  \n",
      "6                          0       sales     low  \n",
      "7                          0       sales     low  \n",
      "8                          0       sales     low  \n",
      "9                          0       sales     low  \n",
      "10                         0       sales     low  \n",
      "11                         0       sales     low  \n",
      "12                         0       sales     low  \n",
      "13                         0       sales     low  \n",
      "14                         0       sales     low  \n",
      "15                         0       sales     low  \n",
      "16                         0       sales     low  \n",
      "17                         0       sales     low  \n",
      "18                         1       sales     low  \n",
      "19                         0       sales     low  \n",
      "20                         0       sales     low  \n",
      "21                         0       sales     low  \n",
      "22                         0       sales     low  \n",
      "23                         0       sales     low  \n",
      "24                         0       sales     low  \n",
      "25                         0       sales     low  \n",
      "26                         0       sales     low  \n",
      "27                         0       sales     low  \n",
      "28                         0  accounting     low  \n",
      "29                         0  accounting     low  \n",
      "...                      ...         ...     ...  \n",
      "14969                      0       sales  medium  \n",
      "14970                      0       sales  medium  \n",
      "14971                      0       sales  medium  \n",
      "14972                      0  accounting  medium  \n",
      "14973                      0  accounting  medium  \n",
      "14974                      0  accounting  medium  \n",
      "14975                      0          hr  medium  \n",
      "14976                      0          hr  medium  \n",
      "14977                      0          hr  medium  \n",
      "14978                      0          hr  medium  \n",
      "14979                      0   technical  medium  \n",
      "14980                      0   technical    high  \n",
      "14981                      0   technical     low  \n",
      "14982                      0   technical  medium  \n",
      "14983                      0   technical  medium  \n",
      "14984                      0   technical  medium  \n",
      "14985                      0   technical  medium  \n",
      "14986                      0   technical     low  \n",
      "14987                      0   technical     low  \n",
      "14988                      0   technical     low  \n",
      "14989                      0   technical     low  \n",
      "14990                      0     support     low  \n",
      "14991                      0     support     low  \n",
      "14992                      0     support     low  \n",
      "14993                      0     support     low  \n",
      "14994                      0     support     low  \n",
      "14995                      0     support     low  \n",
      "14996                      0     support     low  \n",
      "14997                      0     support     low  \n",
      "14998                      0     support     low  \n",
      "\n",
      "[14999 rows x 10 columns]\n"
     ]
    },
    {
     "name": "stderr",
     "output_type": "stream",
     "text": [
      "/home/achopra/.local/lib/python3.6/site-packages/ipykernel_launcher.py:2: FutureWarning: convert_objects is deprecated.  To re-infer data dtypes for object columns, use DataFrame.infer_objects()\n",
      "For all other conversions use the data-type specific converters pd.to_datetime, pd.to_timedelta and pd.to_numeric.\n",
      "  \n"
     ]
    }
   ],
   "source": [
    "hr = getDataset('HR_comma_sep.csv')\n",
    "hr = pd.DataFrame(hr['data'],columns = hr['headers']).convert_objects(convert_numeric=True)\n",
    "print(hr)"
   ]
  },
  {
   "cell_type": "code",
   "execution_count": 15,
   "metadata": {
    "scrolled": false
   },
   "outputs": [
    {
     "name": "stderr",
     "output_type": "stream",
     "text": [
      "/home/achopra/.local/lib/python3.6/site-packages/ipykernel_launcher.py:1: FutureWarning: convert_objects is deprecated.  To re-infer data dtypes for object columns, use DataFrame.infer_objects()\n",
      "For all other conversions use the data-type specific converters pd.to_datetime, pd.to_timedelta and pd.to_numeric.\n",
      "  \"\"\"Entry point for launching an IPython kernel.\n"
     ]
    }
   ],
   "source": [
    "x = hr.drop(columns = ['left','sales','salary']).convert_objects(convert_numeric=True)\n",
    "y = pd.to_numeric(hr['left'].values)"
   ]
  },
  {
   "cell_type": "code",
   "execution_count": 16,
   "metadata": {},
   "outputs": [],
   "source": [
    "import matplotlib.pyplot as plt"
   ]
  },
  {
   "cell_type": "code",
   "execution_count": 19,
   "metadata": {
    "scrolled": false
   },
   "outputs": [
    {
     "data": {
      "text/plain": [
       "Text(0,0.5,'Frequency')"
      ]
     },
     "execution_count": 19,
     "metadata": {},
     "output_type": "execute_result"
    },
    {
     "data": {
      "image/png": "[encoded data removed]",
      "text/plain": [
       "<matplotlib.figure.Figure at 0x7fae133b50f0>"
      ]
     },
     "metadata": {},
     "output_type": "display_data"
    }
   ],
   "source": [
    "plt.xticks(np.arange(min(x.loc[:,'satisfaction_level']), max(x.loc[:,'satisfaction_level'])+1, 0.1))\n",
    "plt.hist(hr.loc[:,'satisfaction_level'])\n",
    "plt.title(\"Satisfaction Level\")\n",
    "plt.xlabel(\"Satisfaction Level\")\n",
    "plt.ylabel(\"Frequency\")"
   ]
  },
  {
   "cell_type": "code",
   "execution_count": 31,
   "metadata": {},
   "outputs": [
    {
     "data": {
      "text/plain": [
       "Text(0,0.5,'Frequency of Job Left')"
      ]
     },
     "execution_count": 31,
     "metadata": {},
     "output_type": "execute_result"
    },
    {
     "data": {
      "image/png": "[encoded data removed]",
      "text/plain": [
       "<matplotlib.figure.Figure at 0x7fae12c34b70>"
      ]
     },
     "metadata": {},
     "output_type": "display_data"
    }
   ],
   "source": [
    "# ticks = np.arange(min(hr.loc[:,'satisfaction_level']), max(hr.loc[:,'satisfaction_level'])+1, 0.1)\n",
    "ax = pd.crosstab(hr.loc[:,'left'],hr.loc[:,'satisfaction_level']).plot(kind='bar')\n",
    "ax.legend().set_visible(False)\n",
    "plt.title('Job Left Frequency for satisfaction_level')\n",
    "plt.xlabel('left')\n",
    "plt.ylabel('Frequency of Job Left')\n"
   ]
  },
  {
   "cell_type": "code",
   "execution_count": null,
   "metadata": {},
   "outputs": [],
   "source": []
  }
 ],
 "metadata": {
  "kernelspec": {
   "display_name": "Python 3",
   "language": "python",
   "name": "python3"
  },
  "language_info": {
   "codemirror_mode": {
    "name": "ipython",
    "version": 3
   },
   "file_extension": ".py",
   "mimetype": "text/x-python",
   "name": "python",
   "nbconvert_exporter": "python",
   "pygments_lexer": "ipython3",
   "version": "3.6.4"
  }
 },
 "nbformat": 4,
 "nbformat_minor": 2
}
